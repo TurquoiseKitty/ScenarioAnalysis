{
 "cells": [
  {
   "cell_type": "code",
   "execution_count": 8,
   "id": "30b45ec5",
   "metadata": {},
   "outputs": [
    {
     "data": {
      "text/plain": [
       "{'dim': 4, 'sigma': 'sigg', 'eig_vals': None}"
      ]
     },
     "execution_count": 8,
     "metadata": {},
     "output_type": "execute_result"
    }
   ],
   "source": [
    "import numpy as np\n",
    "from dataclasses import dataclass, field, asdict\n",
    "from typing import Dict, Optional, Sequence\n",
    "\n",
    "\n",
    "@dataclass\n",
    "class NOI_Args:\n",
    "    dim: int\n",
    "    sigma: float = field(default = 0.)\n",
    "    eig_vals: np.ndarray = field(default = None)\n",
    "        \n",
    "arg = NOI_Args(**{\"dim\" : 4, \"sigma\": \"sigg\"})\n",
    "asdict(arg)"
   ]
  },
  {
   "cell_type": "code",
   "execution_count": 19,
   "id": "e42ca93d",
   "metadata": {},
   "outputs": [
    {
     "data": {
      "text/plain": [
       "array([ 5, 10, 17, 23])"
      ]
     },
     "execution_count": 19,
     "metadata": {},
     "output_type": "execute_result"
    }
   ],
   "source": [
    "Gamma = np.array([\n",
    "    [1,2],\n",
    "    [2,4],\n",
    "    [5,6],\n",
    "    [7,8]\n",
    "])\n",
    "\n",
    "factor = np.array([1,2])\n",
    "\n",
    "np.matmul(Gamma, factor)"
   ]
  },
  {
   "cell_type": "code",
   "execution_count": 1,
   "id": "6dcb1e0b",
   "metadata": {},
   "outputs": [
    {
     "name": "stderr",
     "output_type": "stream",
     "text": [
      "Enabling notebook extension jupyter-js-widgets/extension...\n",
      "      - Validating: ok\n"
     ]
    }
   ],
   "source": [
    "!jupyter nbextension enable --py widgetsnbextension"
   ]
  },
  {
   "cell_type": "code",
   "execution_count": null,
   "id": "86be2fc2",
   "metadata": {},
   "outputs": [],
   "source": []
  }
 ],
 "metadata": {
  "kernelspec": {
   "display_name": "Python 3 (ipykernel)",
   "language": "python",
   "name": "python3"
  },
  "language_info": {
   "codemirror_mode": {
    "name": "ipython",
    "version": 3
   },
   "file_extension": ".py",
   "mimetype": "text/x-python",
   "name": "python",
   "nbconvert_exporter": "python",
   "pygments_lexer": "ipython3",
   "version": "3.9.7"
  }
 },
 "nbformat": 4,
 "nbformat_minor": 5
}
